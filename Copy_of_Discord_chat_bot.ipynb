{
  "nbformat": 4,
  "nbformat_minor": 0,
  "metadata": {
    "colab": {
      "name": "Copy of Discord_chat_bot.ipynb",
      "provenance": [],
      "collapsed_sections": [],
      "toc_visible": true,
      "include_colab_link": true
    },
    "kernelspec": {
      "name": "python3",
      "display_name": "Python 3"
    },
    "language_info": {
      "name": "python"
    }
  },
  "cells": [
    {
      "cell_type": "markdown",
      "metadata": {
        "id": "view-in-github",
        "colab_type": "text"
      },
      "source": [
        "<a href=\"https://colab.research.google.com/github/HankYangg/DL_course/blob/master/Copy_of_Discord_chat_bot.ipynb\" target=\"_parent\"><img src=\"https://colab.research.google.com/assets/colab-badge.svg\" alt=\"Open In Colab\"/></a>"
      ]
    },
    {
      "cell_type": "code",
      "execution_count": null,
      "metadata": {
        "id": "_7s4WsVY4U3D",
        "colab": {
          "base_uri": "https://localhost:8080/"
        },
        "outputId": "4113ad23-f0aa-4551-e21a-f65b5aad78f0"
      },
      "outputs": [
        {
          "output_type": "stream",
          "name": "stdout",
          "text": [
            "b'{\"id\": \"932975878957318205\", \"type\": 0, \"content\": \"great\", \"channel_id\": \"911047124882427944\", \"author\": {\"id\": \"420546585211174912\", \"username\": \"Michael666\", \"avatar\": \"029805e6d9bf9f18c069e4da1fa2f0a4\", \"discriminator\": \"1558\", \"public_flags\": 64}, \"attachments\": [], \"embeds\": [], \"mentions\": [], \"mention_roles\": [], \"pinned\": false, \"mention_everyone\": false, \"tts\": false, \"timestamp\": \"2022-01-18T12:33:03.397000+00:00\", \"edited_timestamp\": null, \"flags\": 0, \"components\": [], \"nonce\": \"823294512144533232234\", \"referenced_message\": null}'\n",
            "b'{\"id\": \"932975968547639346\", \"type\": 0, \"content\": \"Meta\", \"channel_id\": \"911047124882427944\", \"author\": {\"id\": \"420546585211174912\", \"username\": \"Michael666\", \"avatar\": \"029805e6d9bf9f18c069e4da1fa2f0a4\", \"discriminator\": \"1558\", \"public_flags\": 64}, \"attachments\": [], \"embeds\": [], \"mentions\": [], \"mention_roles\": [], \"pinned\": false, \"mention_everyone\": false, \"tts\": false, \"timestamp\": \"2022-01-18T12:33:24.757000+00:00\", \"edited_timestamp\": null, \"flags\": 0, \"components\": [], \"nonce\": \"8232945121410033232234\", \"referenced_message\": null}'\n",
            "b'{\"id\": \"932976070054019072\", \"type\": 0, \"content\": \"GM\", \"channel_id\": \"911047124882427944\", \"author\": {\"id\": \"420546585211174912\", \"username\": \"Michael666\", \"avatar\": \"029805e6d9bf9f18c069e4da1fa2f0a4\", \"discriminator\": \"1558\", \"public_flags\": 64}, \"attachments\": [], \"embeds\": [], \"mentions\": [], \"mention_roles\": [], \"pinned\": false, \"mention_everyone\": false, \"tts\": false, \"timestamp\": \"2022-01-18T12:33:48.958000+00:00\", \"edited_timestamp\": null, \"flags\": 0, \"components\": [], \"nonce\": \"8232945121425133232234\", \"referenced_message\": null}'\n"
          ]
        }
      ],
      "source": [
        "import requests\n",
        "import json\n",
        "import random\n",
        "import time\n",
        "\n",
        "\n",
        "def get_context():\n",
        "    context_list = [\n",
        "        \"GM\",\n",
        "        \"GN\",\n",
        "        \"Kami\",\n",
        "        \"Goodluck bros, here me\",\n",
        "        \"yeah, that's right\",\n",
        "        \"well done\",\n",
        "        \"great day today\",\n",
        "        \"Cheers\",\n",
        "        \"interesting project\",\n",
        "        \"gogogo\",\n",
        "    ]\n",
        "    text = random.choice(context_list)\n",
        "    return text\n",
        "\n",
        "\n",
        "def chat(chanel_list,authorization_list):\n",
        "    for authorization in authorization_list:\n",
        "        header = {\n",
        "            \"Authorization\": authorization,\n",
        "            \"Content-Type\": \"application/json\",\n",
        "            \"User-Agent\": \"Mozilla/5.0 (Windows NT 10.0; Win64; x64) AppleWebKit/537.36 (KHTML, like Gecko) Chrome/94.0.4606.61 Safari/537.36\",\n",
        "        }\n",
        "        for chanel_id in chanel_list:\n",
        "            msg = {\n",
        "                \"content\": get_context(),\n",
        "                \"nonce\": \"82329451214{}33232234\".format(random.randrange(0, 1000)),\n",
        "                \"tts\": False,\n",
        "            }\n",
        "            url = \"https://discord.com/api/v9/channels/{}/messages\".format(chanel_id)\n",
        "            try:\n",
        "                res = requests.post(url=url, headers=header, data=json.dumps(msg))\n",
        "                print(res.content)\n",
        "            except:\n",
        "                pass\n",
        "            continue\n",
        "        time.sleep(random.randrange(1, 3))\n",
        "\n",
        "\n",
        "if __name__ == \"__main__\":\n",
        "    chanel_list = [\"chanel\"]\n",
        "    authorization_list = [\"authorization\"]\n",
        "    while True:\n",
        "        try:\n",
        "            chat(chanel_list,authorization_list)\n",
        "            sleeptime = random.randrange(10, 30)\n",
        "            time.sleep(sleeptime)\n",
        "        except:\n",
        "            break"
      ]
    },
    {
      "cell_type": "markdown",
      "source": [
        ""
      ],
      "metadata": {
        "id": "pIbapXfOn-Rh"
      }
    },
    {
      "cell_type": "code",
      "source": [
        "import os\n",
        "from string import Template\n",
        "\"\"\"dir_path = os.path.dirname(os.path.abspath(__file__))\n",
        "output_path = dir_path + '/build/'\n",
        "if not os.path.exists(output_path):\n",
        "    os.makedirs(output_path)\"\"\"\n",
        "template_path = './template/'  #dir_path + '/template/'\n",
        "output_path = './build/'\n",
        "\n",
        "template_dict = {   'base_test':    template_path + 'base_test.sv', \n",
        "                    'agent':        template_path + 'top_agent.sv',\n",
        "                    'driver':       template_path + 'top_driver.sv',\n",
        "                    'env':          template_path + 'top_env.sv',\n",
        "                    'if':           template_path + 'top_if.sv',\n",
        "                    'model':        template_path + 'top_model.sv',\n",
        "                    'monitor':      template_path + 'top_monitor.sv',\n",
        "                    'scoreboard':   template_path + 'top_scoreboard.sv',\n",
        "                    'sequence':     template_path + 'top_sequence.sv',\n",
        "                    'sequencer':    template_path + 'top_sequencer.sv',\n",
        "                    'tb':           template_path + 'top_tb.sv',\n",
        "                    'testcase':     template_path + 'top_testcase.sv',\n",
        "                    'transaction':  template_path + 'top_transaction.sv',\n",
        "                    'run_tcl':      template_path + 'run_top.tcl',\n",
        "                    'shm_tcl':      template_path + 'shm.tcl',\n",
        "                    'filelist':     template_path + 'top_filelist.f'}\n",
        "\n",
        "output_dict =   {   'base_test':    output_path + 'base_test.sv', \n",
        "                    'agent':        output_path + 'top_agent.sv',\n",
        "                    'driver':       output_path + 'top_driver.sv',\n",
        "                    'env':          output_path + 'top_env.sv',\n",
        "                    'if':           output_path + 'top_if.sv',\n",
        "                    'model':        output_path + 'top_model.sv',\n",
        "                    'monitor':      output_path + 'top_monitor.sv',\n",
        "                    'scoreboard':   output_path + 'top_scoreboard.sv',\n",
        "                    'sequence':     output_path + 'top_sequence.sv',\n",
        "                    'sequencer':    output_path + 'top_sequencer.sv',\n",
        "                    'tb':           output_path + 'top_tb.sv',\n",
        "                    'testcase':     output_path + 'top_testcase.sv',\n",
        "                    'transaction':  output_path + 'top_transaction.sv',\n",
        "                    'run_tcl':      output_path + 'run_top.tcl',\n",
        "                    'shm_tcl':      output_path + 'shm.tcl',\n",
        "                    'filelist':     output_path + 'top_filelist.f'}\n",
        "\n",
        "print(output_dict)\n",
        "print(template_dict)\n",
        "\"\"\"class BuildSV:\n",
        "\n",
        "    def init(self):\n",
        "        \n",
        "        for key in template_dict:\n",
        "            print(key)\n",
        "            template_file = open(template_dict[key], 'r', encoding=\"utf8\")\n",
        "            output_file = open(output_dict[key],'w')\n",
        "            tmpl = Template(template_file.read())\n",
        "            mycode = []\n",
        "            mycode.append(tmpl.safe_substitute(\n",
        "                BASE_TEST = 'BASE_TEST',\n",
        "                base_test = 'base_test',\n",
        "                TOP_AGENT = 'TOP_AGENT',\n",
        "                top_agent = 'top_agent',\n",
        "                TOP_DRIVER = 'TOP_DRIVER',\n",
        "                top_driver = 'top_driver',\n",
        "                TOP_ENV = 'TOP_ENV',\n",
        "                top_env = 'top_env',\n",
        "                TOP_IF = 'TOP_IF',\n",
        "                top_if = 'top_if',\n",
        "                TOP_MODEL = 'TOP_MODEL',\n",
        "                top_model = 'top_model',\n",
        "                TOP_MONITOR = 'TOP_MONITOR',\n",
        "                top_monitor = 'top_monitor',\n",
        "                TOP_SCOREBOARD = 'TOP_SCOREBOARD',\n",
        "                top_scoreboard = 'top_scoreboard',\n",
        "                TOP_SEQUENCE = 'TOP_SEQUENCE',\n",
        "                top_sequence = 'top_sequence',\n",
        "                TOP_SEQUENCER = 'TOP_SEQUENCER',\n",
        "                top_sequencer = 'top_sequencer',\n",
        "                TOP_TB = 'TOP_TB',\n",
        "                top_tb = 'top_tb',\n",
        "                TOP_TESTCASE = 'TOP_TESTCASE',\n",
        "                top_testcase = 'top_testcase',\n",
        "                TOP_TRANSACTION = 'TOP_TRANSACTION',\n",
        "                top_transaction = 'top_transaction',\n",
        "                TIMEGAP_OF_SEQUENCE = '200000',\n",
        "                TIMEOUT = '80000000000',\n",
        "                OUTPUT_PATH = output_path,\n",
        "                filelist = 'top_filelist'\n",
        "                ))\n",
        "\n",
        "            output_file.writelines(mycode)\n",
        "            output_file.close()\n",
        "            template_file.close()\n",
        "\n",
        "        print('ok')\n",
        "\n",
        "if __name__ == '__main__':\n",
        "    build = BuildSV()\n",
        "    build.init()\"\"\""
      ],
      "metadata": {
        "id": "-qiW_wbVoQ7q",
        "outputId": "afbe6a57-4a48-4176-e5c0-c9e4c1975322",
        "colab": {
          "base_uri": "https://localhost:8080/",
          "height": 177
        }
      },
      "execution_count": 5,
      "outputs": [
        {
          "output_type": "stream",
          "name": "stdout",
          "text": [
            "{'base_test': './build/base_test.sv', 'agent': './build/top_agent.sv', 'driver': './build/top_driver.sv', 'env': './build/top_env.sv', 'if': './build/top_if.sv', 'model': './build/top_model.sv', 'monitor': './build/top_monitor.sv', 'scoreboard': './build/top_scoreboard.sv', 'sequence': './build/top_sequence.sv', 'sequencer': './build/top_sequencer.sv', 'tb': './build/top_tb.sv', 'testcase': './build/top_testcase.sv', 'transaction': './build/top_transaction.sv', 'run_tcl': './build/run_top.tcl', 'shm_tcl': './build/shm.tcl', 'filelist': './build/top_filelist.f'}\n",
            "{'base_test': './template/base_test.sv', 'agent': './template/top_agent.sv', 'driver': './template/top_driver.sv', 'env': './template/top_env.sv', 'if': './template/top_if.sv', 'model': './template/top_model.sv', 'monitor': './template/top_monitor.sv', 'scoreboard': './template/top_scoreboard.sv', 'sequence': './template/top_sequence.sv', 'sequencer': './template/top_sequencer.sv', 'tb': './template/top_tb.sv', 'testcase': './template/top_testcase.sv', 'transaction': './template/top_transaction.sv', 'run_tcl': './template/run_top.tcl', 'shm_tcl': './template/shm.tcl', 'filelist': './template/top_filelist.f'}\n"
          ]
        },
        {
          "output_type": "execute_result",
          "data": {
            "text/plain": [
              "'class BuildSV:\\n\\n    def init(self):\\n        \\n        for key in template_dict:\\n            print(key)\\n            template_file = open(template_dict[key], \\'r\\', encoding=\"utf8\")\\n            output_file = open(output_dict[key],\\'w\\')\\n            tmpl = Template(template_file.read())\\n            mycode = []\\n            mycode.append(tmpl.safe_substitute(\\n                BASE_TEST = \\'BASE_TEST\\',\\n                base_test = \\'base_test\\',\\n                TOP_AGENT = \\'TOP_AGENT\\',\\n                top_agent = \\'top_agent\\',\\n                TOP_DRIVER = \\'TOP_DRIVER\\',\\n                top_driver = \\'top_driver\\',\\n                TOP_ENV = \\'TOP_ENV\\',\\n                top_env = \\'top_env\\',\\n                TOP_IF = \\'TOP_IF\\',\\n                top_if = \\'top_if\\',\\n                TOP_MODEL = \\'TOP_MODEL\\',\\n                top_model = \\'top_model\\',\\n                TOP_MONITOR = \\'TOP_MONITOR\\',\\n                top_monitor = \\'top_monitor\\',\\n                TOP_SCOREBOARD = \\'TOP_SCOREBOARD\\',\\n                top_scoreboard = \\'top_scoreboard\\',\\n                TOP_SEQUENCE = \\'TOP_SEQUENCE\\',\\n                top_sequence = \\'top_sequence\\',\\n                TOP_SEQUENCER = \\'TOP_SEQUENCER\\',\\n                top_sequencer = \\'top_sequencer\\',\\n                TOP_TB = \\'TOP_TB\\',\\n                top_tb = \\'top_tb\\',\\n                TOP_TESTCASE = \\'TOP_TESTCASE\\',\\n                top_testcase = \\'top_testcase\\',\\n                TOP_TRANSACTION = \\'TOP_TRANSACTION\\',\\n                top_transaction = \\'top_transaction\\',\\n                TIMEGAP_OF_SEQUENCE = \\'200000\\',\\n                TIMEOUT = \\'80000000000\\',\\n                OUTPUT_PATH = output_path,\\n                filelist = \\'top_filelist\\'\\n                ))\\n\\n            output_file.writelines(mycode)\\n            output_file.close()\\n            template_file.close()\\n\\n        print(\\'ok\\')\\n\\nif __name__ == \\'__main__\\':\\n    build = BuildSV()\\n    build.init()'"
            ],
            "application/vnd.google.colaboratory.intrinsic+json": {
              "type": "string"
            }
          },
          "metadata": {},
          "execution_count": 5
        }
      ]
    },
    {
      "cell_type": "code",
      "source": [
        "for key in template_dict:\n",
        "  print(key)\n",
        "  template_file = open(template_dict[key], 'r', encoding=\"utf8\")\n",
        "  output_file = open(output_dict[key],'w')\n",
        "  tmpl = Template(template_file.read())\n",
        "  mycode = []\n",
        "  mycode.append(tmpl.safe_substitute(\n",
        "  BASE_TEST = 'BASE_TEST',\n",
        "  base_test = 'base_test',\n",
        "                TOP_AGENT = 'TOP_AGENT',\n",
        "                top_agent = 'top_agent',\n",
        "                TOP_DRIVER = 'TOP_DRIVER',\n",
        "                top_driver = 'top_driver',\n",
        "                TOP_ENV = 'TOP_ENV',\n",
        "                top_env = 'top_env',\n",
        "                TOP_IF = 'TOP_IF',\n",
        "                top_if = 'top_if',\n",
        "                TOP_MODEL = 'TOP_MODEL',\n",
        "                top_model = 'top_model',\n",
        "                TOP_MONITOR = 'TOP_MONITOR',\n",
        "                top_monitor = 'top_monitor',\n",
        "                TOP_SCOREBOARD = 'TOP_SCOREBOARD',\n",
        "                top_scoreboard = 'top_scoreboard',\n",
        "                TOP_SEQUENCE = 'TOP_SEQUENCE',\n",
        "                top_sequence = 'top_sequence',\n",
        "                TOP_SEQUENCER = 'TOP_SEQUENCER',\n",
        "                top_sequencer = 'top_sequencer',\n",
        "                TOP_TB = 'TOP_TB',\n",
        "                top_tb = 'top_tb',\n",
        "                TOP_TESTCASE = 'TOP_TESTCASE',\n",
        "                top_testcase = 'top_testcase',\n",
        "                TOP_TRANSACTION = 'TOP_TRANSACTION',\n",
        "                top_transaction = 'top_transaction',\n",
        "                TIMEGAP_OF_SEQUENCE = '200000',\n",
        "                TIMEOUT = '80000000000',\n",
        "                OUTPUT_PATH = output_path,\n",
        "                filelist = 'top_filelist'\n",
        "  ))\n",
        "\n",
        "  output_file.writelines(mycode)\n",
        "  output_file.close()\n",
        "  template_file.close()\n",
        "\n",
        "print('ok')"
      ],
      "metadata": {
        "id": "flgcB69nqMOe",
        "outputId": "ae164188-4772-43ed-e56e-da38c950b8b2",
        "colab": {
          "base_uri": "https://localhost:8080/",
          "height": 254
        }
      },
      "execution_count": 7,
      "outputs": [
        {
          "output_type": "stream",
          "name": "stdout",
          "text": [
            "base_test\n"
          ]
        },
        {
          "output_type": "error",
          "ename": "FileNotFoundError",
          "evalue": "ignored",
          "traceback": [
            "\u001b[0;31m---------------------------------------------------------------------------\u001b[0m",
            "\u001b[0;31mFileNotFoundError\u001b[0m                         Traceback (most recent call last)",
            "\u001b[0;32m<ipython-input-7-f21f4439021c>\u001b[0m in \u001b[0;36m<module>\u001b[0;34m()\u001b[0m\n\u001b[1;32m      1\u001b[0m \u001b[0;32mfor\u001b[0m \u001b[0mkey\u001b[0m \u001b[0;32min\u001b[0m \u001b[0mtemplate_dict\u001b[0m\u001b[0;34m:\u001b[0m\u001b[0;34m\u001b[0m\u001b[0;34m\u001b[0m\u001b[0m\n\u001b[1;32m      2\u001b[0m   \u001b[0mprint\u001b[0m\u001b[0;34m(\u001b[0m\u001b[0mkey\u001b[0m\u001b[0;34m)\u001b[0m\u001b[0;34m\u001b[0m\u001b[0;34m\u001b[0m\u001b[0m\n\u001b[0;32m----> 3\u001b[0;31m   \u001b[0mtemplate_file\u001b[0m \u001b[0;34m=\u001b[0m \u001b[0mopen\u001b[0m\u001b[0;34m(\u001b[0m\u001b[0mtemplate_dict\u001b[0m\u001b[0;34m[\u001b[0m\u001b[0mkey\u001b[0m\u001b[0;34m]\u001b[0m\u001b[0;34m,\u001b[0m \u001b[0;34m'r'\u001b[0m\u001b[0;34m,\u001b[0m \u001b[0mencoding\u001b[0m\u001b[0;34m=\u001b[0m\u001b[0;34m\"utf8\"\u001b[0m\u001b[0;34m)\u001b[0m\u001b[0;34m\u001b[0m\u001b[0;34m\u001b[0m\u001b[0m\n\u001b[0m\u001b[1;32m      4\u001b[0m   \u001b[0moutput_file\u001b[0m \u001b[0;34m=\u001b[0m \u001b[0mopen\u001b[0m\u001b[0;34m(\u001b[0m\u001b[0moutput_dict\u001b[0m\u001b[0;34m[\u001b[0m\u001b[0mkey\u001b[0m\u001b[0;34m]\u001b[0m\u001b[0;34m,\u001b[0m\u001b[0;34m'w'\u001b[0m\u001b[0;34m)\u001b[0m\u001b[0;34m\u001b[0m\u001b[0;34m\u001b[0m\u001b[0m\n\u001b[1;32m      5\u001b[0m   \u001b[0mtmpl\u001b[0m \u001b[0;34m=\u001b[0m \u001b[0mTemplate\u001b[0m\u001b[0;34m(\u001b[0m\u001b[0mtemplate_file\u001b[0m\u001b[0;34m.\u001b[0m\u001b[0mread\u001b[0m\u001b[0;34m(\u001b[0m\u001b[0;34m)\u001b[0m\u001b[0;34m)\u001b[0m\u001b[0;34m\u001b[0m\u001b[0;34m\u001b[0m\u001b[0m\n",
            "\u001b[0;31mFileNotFoundError\u001b[0m: [Errno 2] No such file or directory: './template/base_test.sv'"
          ]
        }
      ]
    },
    {
      "cell_type": "markdown",
      "source": [
        "# 新增區段"
      ],
      "metadata": {
        "id": "E2YBxMGmrJMp"
      }
    }
  ]
}